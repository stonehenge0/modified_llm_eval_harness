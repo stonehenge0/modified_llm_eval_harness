{
 "cells": [
  {
   "cell_type": "code",
   "execution_count": 1,
   "id": "c2bde465",
   "metadata": {},
   "outputs": [
    {
     "name": "stderr",
     "output_type": "stream",
     "text": [
      "c:\\Users\\emste\\Documents\\cloned_Gits\\model_steering_multilingual\\venv\\Lib\\site-packages\\tqdm\\auto.py:21: TqdmWarning: IProgress not found. Please update jupyter and ipywidgets. See https://ipywidgets.readthedocs.io/en/stable/user_install.html\n",
      "  from .autonotebook import tqdm as notebook_tqdm\n"
     ]
    },
    {
     "name": "stdout",
     "output_type": "stream",
     "text": [
      "DatasetDict({\n",
      "    train: Dataset({\n",
      "        features: ['id', 'source', 'tags', 'en', 'zh', 'it', 'vi', 'ar', 'ko', 'th', 'bn', 'sw', 'jv'],\n",
      "        num_rows: 315\n",
      "    })\n",
      "})\n"
     ]
    },
    {
     "ename": "AttributeError",
     "evalue": "'str' object has no attribute 'get'",
     "output_type": "error",
     "traceback": [
      "\u001b[31m---------------------------------------------------------------------------\u001b[39m",
      "\u001b[31mAttributeError\u001b[39m                            Traceback (most recent call last)",
      "\u001b[36mCell\u001b[39m\u001b[36m \u001b[39m\u001b[32mIn[1]\u001b[39m\u001b[32m, line 9\u001b[39m\n\u001b[32m      5\u001b[39m \u001b[38;5;28mprint\u001b[39m(dataset)  \u001b[38;5;66;03m# check available splits\u001b[39;00m\n\u001b[32m      7\u001b[39m split = dataset\n\u001b[32m----> \u001b[39m\u001b[32m9\u001b[39m flattened = \u001b[43mflatten_multilingual_csv\u001b[49m\u001b[43m(\u001b[49m\u001b[43msplit\u001b[49m\u001b[43m)\u001b[49m\n\u001b[32m     10\u001b[39m \u001b[38;5;28mprint\u001b[39m(\u001b[33mf\u001b[39m\u001b[33m\"\u001b[39m\u001b[33mTotal flattened samples: \u001b[39m\u001b[38;5;132;01m{\u001b[39;00m\u001b[38;5;28mlen\u001b[39m(flattened)\u001b[38;5;132;01m}\u001b[39;00m\u001b[33m\"\u001b[39m)\n\u001b[32m     11\u001b[39m \u001b[38;5;28mprint\u001b[39m(\u001b[33m\"\u001b[39m\u001b[33mExample entries:\u001b[39m\u001b[33m\"\u001b[39m)\n",
      "\u001b[36mFile \u001b[39m\u001b[32mc:\\Users\\emste\\Documents\\cloned_Gits\\model_steering_multilingual\\external\\lm-evaluation-harness\\lm_eval\\tasks\\multijail\\utils.py:9\u001b[39m, in \u001b[36mflatten_multilingual_csv\u001b[39m\u001b[34m(dataset)\u001b[39m\n\u001b[32m      6\u001b[39m \u001b[38;5;28;01mfor\u001b[39;00m i, row \u001b[38;5;129;01min\u001b[39;00m \u001b[38;5;28menumerate\u001b[39m(dataset):\n\u001b[32m      7\u001b[39m     \u001b[38;5;66;03m# row should be a dict\u001b[39;00m\n\u001b[32m      8\u001b[39m     \u001b[38;5;28;01mfor\u001b[39;00m lang \u001b[38;5;129;01min\u001b[39;00m language_columns:\n\u001b[32m----> \u001b[39m\u001b[32m9\u001b[39m         prompt = \u001b[43mrow\u001b[49m\u001b[43m.\u001b[49m\u001b[43mget\u001b[49m(lang, \u001b[33m\"\u001b[39m\u001b[33m\"\u001b[39m)\n\u001b[32m     10\u001b[39m         \u001b[38;5;28;01mif\u001b[39;00m \u001b[38;5;129;01mnot\u001b[39;00m \u001b[38;5;28misinstance\u001b[39m(prompt, \u001b[38;5;28mstr\u001b[39m) \u001b[38;5;129;01mor\u001b[39;00m prompt.strip() == \u001b[33m\"\u001b[39m\u001b[33m\"\u001b[39m:\n\u001b[32m     11\u001b[39m             \u001b[38;5;28;01mcontinue\u001b[39;00m\n",
      "\u001b[31mAttributeError\u001b[39m: 'str' object has no attribute 'get'"
     ]
    }
   ],
   "source": [
    "from datasets import load_dataset\n",
    "from utils import flatten_multilingual_csv\n",
    "\n",
    "dataset = load_dataset(\"DAMO-NLP-SG/MultiJail\")  # returns DatasetDict\n",
    "print(dataset)  # check available splits\n",
    "\n",
    "split = dataset\n",
    "\n",
    "flattened = flatten_multilingual_csv(split)\n",
    "print(f\"Total flattened samples: {len(flattened)}\")\n",
    "print(\"Example entries:\")\n",
    "print(flattened[:5])\n"
   ]
  },
  {
   "cell_type": "code",
   "execution_count": null,
   "id": "4ebf5edc",
   "metadata": {},
   "outputs": [],
   "source": []
  }
 ],
 "metadata": {
  "kernelspec": {
   "display_name": "venv",
   "language": "python",
   "name": "python3"
  },
  "language_info": {
   "codemirror_mode": {
    "name": "ipython",
    "version": 3
   },
   "file_extension": ".py",
   "mimetype": "text/x-python",
   "name": "python",
   "nbconvert_exporter": "python",
   "pygments_lexer": "ipython3",
   "version": "3.12.6"
  }
 },
 "nbformat": 4,
 "nbformat_minor": 5
}
